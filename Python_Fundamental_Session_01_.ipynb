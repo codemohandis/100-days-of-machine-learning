{
  "nbformat": 4,
  "nbformat_minor": 0,
  "metadata": {
    "colab": {
      "provenance": [],
      "authorship_tag": "ABX9TyMVP0cecVv8L5Uocg4EnDJJ",
      "include_colab_link": true
    },
    "kernelspec": {
      "name": "python3",
      "display_name": "Python 3"
    },
    "language_info": {
      "name": "python"
    }
  },
  "cells": [
    {
      "cell_type": "markdown",
      "metadata": {
        "id": "view-in-github",
        "colab_type": "text"
      },
      "source": [
        "<a href=\"https://colab.research.google.com/github/codemohandis/100-days-of-machine-learning/blob/main/Python_Fundamental_Session_01_.ipynb\" target=\"_parent\"><img src=\"https://colab.research.google.com/assets/colab-badge.svg\" alt=\"Open In Colab\"/></a>"
      ]
    },
    {
      "cell_type": "markdown",
      "source": [
        "**1. Python Output**"
      ],
      "metadata": {
        "id": "6M6Hc2UeND5E"
      }
    },
    {
      "cell_type": "code",
      "source": [
        "print(\"Hello Print\")\n",
        "print(8+9)\n",
        "print(2**4)\n",
        "print(4**5)"
      ],
      "metadata": {
        "colab": {
          "base_uri": "https://localhost:8080/"
        },
        "id": "WG4sw39PNHXs",
        "outputId": "41361751-6517-47f9-ece9-05659c4d0698"
      },
      "execution_count": 2,
      "outputs": [
        {
          "output_type": "stream",
          "name": "stdout",
          "text": [
            "Hello Print\n",
            "17\n",
            "16\n",
            "1024\n"
          ]
        }
      ]
    },
    {
      "cell_type": "code",
      "source": [
        "print(\"Hello Print\",23,5*5.5**5,sep='/')"
      ],
      "metadata": {
        "colab": {
          "base_uri": "https://localhost:8080/"
        },
        "id": "mhG8HG7ZNzcY",
        "outputId": "49ef9f4c-4f53-4bd0-912f-d6fef22b71bc"
      },
      "execution_count": 3,
      "outputs": [
        {
          "output_type": "stream",
          "name": "stdout",
          "text": [
            "Hello Print/23/25164.21875\n"
          ]
        }
      ]
    },
    {
      "cell_type": "code",
      "source": [
        "print(\"hello\",end='--')\n",
        "print(\"world\")"
      ],
      "metadata": {
        "colab": {
          "base_uri": "https://localhost:8080/"
        },
        "id": "kGYCQuClOv9o",
        "outputId": "f65e1929-1478-4e3b-a3e9-d9536c943a47"
      },
      "execution_count": 4,
      "outputs": [
        {
          "output_type": "stream",
          "name": "stdout",
          "text": [
            "hello--world\n"
          ]
        }
      ]
    },
    {
      "cell_type": "markdown",
      "source": [
        "2. Data Types"
      ],
      "metadata": {
        "id": "RjCs5m_uPDkA"
      }
    },
    {
      "cell_type": "code",
      "source": [
        "#integer\n",
        "print(110)"
      ],
      "metadata": {
        "colab": {
          "base_uri": "https://localhost:8080/"
        },
        "id": "lOSPX1w-PGQQ",
        "outputId": "18177ecf-ce8b-40c0-e2f6-12cef565ed71"
      },
      "execution_count": 5,
      "outputs": [
        {
          "output_type": "stream",
          "name": "stdout",
          "text": [
            "110\n"
          ]
        }
      ]
    },
    {
      "cell_type": "code",
      "source": [
        "#float , decimal\n",
        "print(10.5)\n",
        "#print(1.7e309) limit of float data type"
      ],
      "metadata": {
        "colab": {
          "base_uri": "https://localhost:8080/"
        },
        "id": "PwzdrPmMPI67",
        "outputId": "363d4123-4ef1-4f73-dbab-e8616a63a894"
      },
      "execution_count": 6,
      "outputs": [
        {
          "output_type": "stream",
          "name": "stdout",
          "text": [
            "10.5\n",
            "inf\n"
          ]
        }
      ]
    },
    {
      "cell_type": "code",
      "source": [
        "#bolean\n",
        "print(True)\n",
        "print(False)"
      ],
      "metadata": {
        "colab": {
          "base_uri": "https://localhost:8080/"
        },
        "id": "OdoGxTUnPI87",
        "outputId": "c44d68d5-e47e-4298-abfa-432ac15267bf"
      },
      "execution_count": 7,
      "outputs": [
        {
          "output_type": "stream",
          "name": "stdout",
          "text": [
            "True\n",
            "False\n"
          ]
        }
      ]
    },
    {
      "cell_type": "code",
      "source": [
        "#complex\n",
        "print(5+6j)"
      ],
      "metadata": {
        "colab": {
          "base_uri": "https://localhost:8080/"
        },
        "id": "1kBnHXlZPJIM",
        "outputId": "730f28de-41d9-44b2-a78a-59bf91ff5096"
      },
      "execution_count": 8,
      "outputs": [
        {
          "output_type": "stream",
          "name": "stdout",
          "text": [
            "(5+6j)\n"
          ]
        }
      ]
    },
    {
      "cell_type": "code",
      "source": [
        "#List,Tuple,Sets,Dictionary\n",
        "print([1,2,3,4,4,5,6])\n",
        "print((1,2,3,4,4,5,6))\n",
        "print({1,2,3,4,4,5,6})\n",
        "print({'name':'Mohamad','gender':'Male','weight':83})"
      ],
      "metadata": {
        "colab": {
          "base_uri": "https://localhost:8080/"
        },
        "id": "LfdY60RLPJRT",
        "outputId": "54b59c0d-617b-43b6-bebc-d160d38c8b2d"
      },
      "execution_count": 10,
      "outputs": [
        {
          "output_type": "stream",
          "name": "stdout",
          "text": [
            "[1, 2, 3, 4, 4, 5, 6]\n",
            "(1, 2, 3, 4, 4, 5, 6)\n",
            "{1, 2, 3, 4, 5, 6}\n",
            "{'name': 'Mohamad', 'gender': 'Male', 'weight': 83}\n"
          ]
        }
      ]
    },
    {
      "cell_type": "code",
      "source": [
        "#type\n",
        "type((1,2,3))"
      ],
      "metadata": {
        "colab": {
          "base_uri": "https://localhost:8080/"
        },
        "id": "j3DlHdziRRHq",
        "outputId": "c499168b-36ab-4ff9-f60a-601ae3a4965f"
      },
      "execution_count": 12,
      "outputs": [
        {
          "output_type": "execute_result",
          "data": {
            "text/plain": [
              "tuple"
            ]
          },
          "metadata": {},
          "execution_count": 12
        }
      ]
    },
    {
      "cell_type": "markdown",
      "source": [
        "3.Variables"
      ],
      "metadata": {
        "id": "euFolSV8RXkQ"
      }
    },
    {
      "cell_type": "code",
      "source": [
        "#Static vs Dynamic Typing\n",
        "a = 5 # We do not tell the data type\n",
        "print(a)\n",
        "\n",
        "#Static vs Dynamic Binding, C C++,Java Suport static binding\n",
        "b = 100\n",
        "print(b)\n",
        "b =\"Mohammad\"\n",
        "print(b)\n",
        "\n",
        "#Stylish declaration techniques\n",
        "a,b,c,d =1,2,3,4\n",
        "print(a,b,c,d)\n",
        "\n",
        "e=f=g=h=10\n",
        "print(e,f,g,h,sep='/')"
      ],
      "metadata": {
        "colab": {
          "base_uri": "https://localhost:8080/"
        },
        "id": "jzbyknDgRZQh",
        "outputId": "5a657820-5b64-4acb-c08f-836354ce8253"
      },
      "execution_count": 19,
      "outputs": [
        {
          "output_type": "stream",
          "name": "stdout",
          "text": [
            "5\n",
            "100\n",
            "Mohammad\n",
            "1 2 3 4\n",
            "10/10/10/10\n"
          ]
        }
      ]
    },
    {
      "cell_type": "markdown",
      "source": [
        "4.Keyword"
      ],
      "metadata": {
        "id": "UptY3ymFTdJp"
      }
    },
    {
      "cell_type": "code",
      "source": [
        "# Keyword : 32 Keyword ,[interpretor run the code line by line not like compiler]\n"
      ],
      "metadata": {
        "id": "ZcmdRYe2RZ7p"
      },
      "execution_count": 21,
      "outputs": []
    },
    {
      "cell_type": "code",
      "source": [
        "#identifiers\n",
        "# You can't start with a digits, 1name = 4\n",
        "# You can use special chars -> _\n",
        "#identifers can not be keyword"
      ],
      "metadata": {
        "id": "KPdFgnVgUZnU"
      },
      "execution_count": 32,
      "outputs": []
    },
    {
      "cell_type": "markdown",
      "source": [
        "5.User Input"
      ],
      "metadata": {
        "id": "kG0CV0ZdV3Of"
      }
    },
    {
      "cell_type": "code",
      "source": [
        "email = input(\"Enter Email : \")\n",
        "print(email)"
      ],
      "metadata": {
        "id": "KiU-Bd-BTgGM"
      },
      "execution_count": null,
      "outputs": []
    },
    {
      "cell_type": "code",
      "source": [
        "print('hello')"
      ],
      "metadata": {
        "colab": {
          "base_uri": "https://localhost:8080/",
          "height": 175
        },
        "id": "8dTdl8WPTgLI",
        "outputId": "91ec30e1-aeb0-4e2a-bb48-3d664e9191c0"
      },
      "execution_count": 36,
      "outputs": [
        {
          "output_type": "error",
          "ename": "TypeError",
          "evalue": "'int' object is not callable",
          "traceback": [
            "\u001b[0;31m---------------------------------------------------------------------------\u001b[0m",
            "\u001b[0;31mTypeError\u001b[0m                                 Traceback (most recent call last)",
            "\u001b[0;32m<ipython-input-36-8df0164c4e34>\u001b[0m in \u001b[0;36m<cell line: 1>\u001b[0;34m()\u001b[0m\n\u001b[0;32m----> 1\u001b[0;31m \u001b[0mprint\u001b[0m\u001b[0;34m(\u001b[0m\u001b[0;34m'hello'\u001b[0m\u001b[0;34m)\u001b[0m\u001b[0;34m\u001b[0m\u001b[0;34m\u001b[0m\u001b[0m\n\u001b[0m",
            "\u001b[0;31mTypeError\u001b[0m: 'int' object is not callable"
          ]
        }
      ]
    },
    {
      "cell_type": "code",
      "source": [],
      "metadata": {
        "id": "gISvnWZ8TgOU"
      },
      "execution_count": null,
      "outputs": []
    },
    {
      "cell_type": "code",
      "source": [],
      "metadata": {
        "id": "svPudlBJRZ-w"
      },
      "execution_count": null,
      "outputs": []
    },
    {
      "cell_type": "code",
      "source": [],
      "metadata": {
        "id": "oWkViAhWRaBG"
      },
      "execution_count": null,
      "outputs": []
    }
  ]
}